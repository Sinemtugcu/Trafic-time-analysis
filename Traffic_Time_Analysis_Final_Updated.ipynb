{
 "cells": [
  {
   "cell_type": "code",
   "execution_count": null,
   "id": "7b94ebd2",
   "metadata": {},
   "outputs": [],
   "source": [
    "import pandas as pd\n",
    "import matplotlib.pyplot as plt\n",
    "import seaborn as sns\n",
    "from scipy.stats import f_oneway\n",
    "\n",
    "sns.set(style=\"whitegrid\")\n"
   ]
  },
  {
   "cell_type": "code",
   "execution_count": null,
   "id": "568cb18a",
   "metadata": {},
   "outputs": [],
   "source": [
    "df = pd.read_csv(\"traffic_data-2.csv\", header=None)\n",
    "df.columns = [\"Timestamp\", \"Origin\", \"Destination\", \"TravelDuration\"]\n",
    "df[\"Timestamp\"] = pd.to_datetime(df[\"Timestamp\"])\n",
    "df[\"Hour\"] = df[\"Timestamp\"].dt.hour\n",
    "df[\"Date\"] = df[\"Timestamp\"].dt.date\n",
    "df[\"Weekday\"] = df[\"Timestamp\"].dt.day_name()\n",
    "df[\"TravelDurationMinutes\"] = df[\"TravelDuration\"].str.extract(r'(\\d+)').astype(int)\n"
   ]
  },
  {
   "cell_type": "code",
   "execution_count": null,
   "id": "d275d626",
   "metadata": {},
   "outputs": [],
   "source": [
    "def time_category(hour):\n",
    "    if 6 <= hour < 11:\n",
    "        return \"Morning\"\n",
    "    elif 11 <= hour < 16:\n",
    "        return \"Midday\"\n",
    "    else:\n",
    "        return \"Evening\"\n",
    "\n",
    "df[\"TimeCategory\"] = df[\"Hour\"].apply(time_category)\n",
    "df[\"WeekdayNum\"] = df[\"Weekday\"].apply(lambda x: [\"Monday\", \"Tuesday\", \"Wednesday\", \"Thursday\", \"Friday\", \"Saturday\", \"Sunday\"].index(x))\n",
    "df.tail()"
   ]
  },
  {
   "cell_type": "code",
   "execution_count": null,
   "id": "7ae23779",
   "metadata": {},
   "outputs": [],
   "source": [
    "plt.figure(figsize=(10, 6))\n",
    "sns.histplot(df[\"TravelDurationMinutes\"], bins=15, kde=True, color=\"steelblue\")\n",
    "plt.title(\"Distribution of Travel Duration\")\n",
    "plt.xlabel(\"Travel Duration (minutes)\")\n",
    "plt.ylabel(\"Frequency\")\n",
    "plt.grid(True)\n",
    "plt.tight_layout()\n",
    "plt.show()\n"
   ]
  },
  {
   "cell_type": "code",
   "execution_count": null,
   "id": "1614d474",
   "metadata": {},
   "outputs": [],
   "source": [
    "plt.figure(figsize=(10, 6))\n",
    "hourly_avg = df.groupby(\"Hour\")[\"TravelDurationMinutes\"].mean()\n",
    "sns.lineplot(x=hourly_avg.index, y=hourly_avg.values, marker=\"o\")\n",
    "plt.title(\"Average Travel Duration by Hour of Day\")\n",
    "plt.xlabel(\"Hour of Day\")\n",
    "plt.ylabel(\"Average Travel Duration (minutes)\")\n",
    "plt.grid(True)\n",
    "plt.tight_layout()\n",
    "plt.show()\n"
   ]
  },
  {
   "cell_type": "code",
   "execution_count": null,
   "id": "7e88c762",
   "metadata": {},
   "outputs": [],
   "source": [
    "plt.figure(figsize=(10, 6))\n",
    "order = [\"Monday\", \"Tuesday\", \"Wednesday\", \"Thursday\", \"Friday\", \"Saturday\", \"Sunday\"]\n",
    "sns.boxplot(data=df, x=\"Weekday\", y=\"TravelDurationMinutes\", order=order, palette=\"Set2\")\n",
    "plt.title(\"Travel Duration by Day of the Week\")\n",
    "plt.xlabel(\"Day of the Week\")\n",
    "plt.ylabel(\"Travel Duration (minutes)\")\n",
    "plt.xticks(rotation=45)\n",
    "plt.grid(True)\n",
    "plt.tight_layout()\n",
    "plt.show()\n"
   ]
  },
  {
   "cell_type": "code",
   "execution_count": null,
   "id": "27e32713",
   "metadata": {},
   "outputs": [],
   "source": [
    "corr = df[[\"TravelDurationMinutes\", \"Hour\", \"WeekdayNum\"]].corr()\n",
    "plt.figure(figsize=(8, 6))\n",
    "sns.heatmap(corr, annot=True, cmap=\"coolwarm\", linewidths=0.5)\n",
    "plt.title(\"Correlation Heatmap\")\n",
    "plt.tight_layout()\n",
    "plt.show()\n"
   ]
  },
  {
   "cell_type": "code",
   "execution_count": null,
   "id": "4dea0e59",
   "metadata": {},
   "outputs": [],
   "source": [
    "plt.figure(figsize=(10, 6))\n",
    "sns.regplot(x=\"Hour\", y=\"TravelDurationMinutes\", data=df, scatter_kws={'alpha':0.6}, line_kws={\"color\": \"red\"})\n",
    "plt.title(\"Hour of Day vs. Travel Duration with Trendline\")\n",
    "plt.xlabel(\"Hour of Day\")\n",
    "plt.ylabel(\"Travel Duration (minutes)\")\n",
    "plt.grid(True)\n",
    "plt.tight_layout()\n",
    "plt.show()\n"
   ]
  },
  {
   "cell_type": "code",
   "execution_count": null,
   "id": "578137c4",
   "metadata": {},
   "outputs": [],
   "source": [
    "# ANOVA: Morning vs Midday vs Evening\n",
    "morning = df[df[\"TimeCategory\"] == \"Morning\"][\"TravelDurationMinutes\"]\n",
    "midday = df[df[\"TimeCategory\"] == \"Midday\"][\"TravelDurationMinutes\"]\n",
    "evening = df[df[\"TimeCategory\"] == \"Evening\"][\"TravelDurationMinutes\"]\n",
    "\n",
    "anova_stat, anova_p = f_oneway(morning, midday, evening)\n",
    "\n",
    "print(\"ANOVA Test Results:\")\n",
    "print(f\"F-statistic: {anova_stat:.2f}\")\n",
    "print(f\"P-value: {anova_p:.10f}\")\n",
    "\n",
    "if anova_p < 0.05:\n",
    "    print(\"Result: Reject H₀. Travel durations differ significantly based on time of day.\")\n",
    "else:\n",
    "    print(\"Result: Fail to reject H₀. No significant difference found based on time of day.\")\n"
   ]
  }
 ],
 "metadata": {},
 "nbformat": 4,
 "nbformat_minor": 5
}
